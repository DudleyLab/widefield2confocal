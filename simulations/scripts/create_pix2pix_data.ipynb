{
 "cells": [
  {
   "cell_type": "code",
   "execution_count": 1,
   "metadata": {},
   "outputs": [],
   "source": [
    "## some pathes need to be modified\n",
    "\n",
    "import matplotlib.pyplot as plt\n",
    "% matplotlib inline"
   ]
  },
  {
   "cell_type": "code",
   "execution_count": 2,
   "metadata": {},
   "outputs": [],
   "source": [
    "import os"
   ]
  },
  {
   "cell_type": "code",
   "execution_count": 3,
   "metadata": {},
   "outputs": [
    {
     "data": {
      "text/plain": [
       "0"
      ]
     },
     "execution_count": 3,
     "metadata": {},
     "output_type": "execute_result"
    }
   ],
   "source": [
    "path_experiment = './simulations/pix2pix_train/'\n",
    "os.system('mkdir ' + path_experiment)\n",
    "os.system('mkdir ' + path_experiment + 'A')\n",
    "os.system('mkdir ' + path_experiment + 'B')\n",
    "os.system('mkdir ' + path_experiment + 'A/train')\n",
    "os.system('mkdir ' + path_experiment + 'B/train')"
   ]
  },
  {
   "cell_type": "code",
   "execution_count": null,
   "metadata": {},
   "outputs": [
    {
     "name": "stderr",
     "output_type": "stream",
     "text": [
      "/data1/users/hclee/hclee/python2/local/lib/python2.7/site-packages/skimage/transform/_warps.py:105: UserWarning: The default mode, 'constant', will be changed to 'reflect' in skimage 0.15.\n",
      "  warn(\"The default mode, 'constant', will be changed to 'reflect' in \"\n"
     ]
    }
   ],
   "source": [
    "from skimage import transform as skt\n",
    "from skimage import filters as skf\n",
    "import cv2\n",
    "from skimage.io import imread\n",
    "import numpy as np\n",
    "\n",
    "train_fns = os.listdir('./simulations/train_img/')\n",
    "\n",
    "for f in train_fns:\n",
    "    img = imread('./simulations/train_img/%s' % f).astype('float')\n",
    "    \n",
    "    ## resize/blur/add noise\n",
    "    img = skt.resize(img, (84, 84), anti_aliasing=True)\n",
    "    \n",
    "    imgn = skf.gaussian(img[:, :, 1], sigma = 1.0)\n",
    "    imgn = imgn + 3.0 * np.random.randn(*imgn.shape)\n",
    "    imgn = skt.resize(imgn, (128, 128), anti_aliasing=True)\n",
    "    \n",
    "    imgn = np.maximum(np.minimum(np.round(imgn), 255), 0).astype(np.uint8)\n",
    "    \n",
    "    \n",
    "    \n",
    "    cv2.imwrite(path_experiment + 'A/train/%s' % f, imgn)\n",
    "    \n",
    "for f in train_fns:\n",
    "    img = imread('./simulations/train_img/%s' % f)\n",
    "    img = img[:, :, 1] ## tubulin only\n",
    "    cv2.imwrite(path_experiment + 'B/train/%s' % f, img)"
   ]
  },
  {
   "cell_type": "code",
   "execution_count": null,
   "metadata": {
    "scrolled": false
   },
   "outputs": [],
   "source": [
    "for f in train_fns[:100:10]:\n",
    "    imgA = imread(path_experiment + 'A/train/%s' % f)\n",
    "    imgB = imread(path_experiment + 'B/train/%s' % f)\n",
    "    fig, axes = plt.subplots(1, 2, figsize = (6, 3))\n",
    "    ax = axes[0]\n",
    "    ax.imshow(imgA)\n",
    "    ax.set_xticks([])\n",
    "    ax.set_yticks([])\n",
    "    \n",
    "    ax = axes[1]\n",
    "    ax.imshow(imgB)\n",
    "    ax.set_xticks([])\n",
    "    ax.set_yticks([])\n",
    "    \n",
    "    plt.show()"
   ]
  },
  {
   "cell_type": "code",
   "execution_count": null,
   "metadata": {},
   "outputs": [],
   "source": []
  }
 ],
 "metadata": {
  "kernelspec": {
   "display_name": "Python 2",
   "language": "python",
   "name": "python2"
  },
  "language_info": {
   "codemirror_mode": {
    "name": "ipython",
    "version": 2
   },
   "file_extension": ".py",
   "mimetype": "text/x-python",
   "name": "python",
   "nbconvert_exporter": "python",
   "pygments_lexer": "ipython2",
   "version": "2.7.12"
  }
 },
 "nbformat": 4,
 "nbformat_minor": 2
}
