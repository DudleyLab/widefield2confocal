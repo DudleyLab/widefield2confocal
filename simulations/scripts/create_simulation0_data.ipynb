{
 "cells": [
  {
   "cell_type": "code",
   "execution_count": 1,
   "metadata": {},
   "outputs": [],
   "source": [
    "## some pathes need to be modified\n",
    "import matplotlib.pyplot as plt\n",
    "% matplotlib inline"
   ]
  },
  {
   "cell_type": "code",
   "execution_count": 2,
   "metadata": {},
   "outputs": [],
   "source": [
    "import os\n",
    "test_fns = os.listdir('./simulations/test_img/')\n",
    "val_fns = os.listdir('./simulations/val_img/')"
   ]
  },
  {
   "cell_type": "code",
   "execution_count": 3,
   "metadata": {},
   "outputs": [
    {
     "data": {
      "text/plain": [
       "0"
      ]
     },
     "execution_count": 3,
     "metadata": {},
     "output_type": "execute_result"
    }
   ],
   "source": [
    "path_experiment = './simulations/simulation0/'\n",
    "os.system('mkdir ' + path_experiment)\n",
    "os.system('mkdir ' + path_experiment + 'trainA')\n",
    "os.system('mkdir ' + path_experiment + 'trainB')\n",
    "os.system('mkdir ' + path_experiment + 'test')"
   ]
  },
  {
   "cell_type": "code",
   "execution_count": 4,
   "metadata": {},
   "outputs": [
    {
     "name": "stderr",
     "output_type": "stream",
     "text": [
      "/data1/users/hclee/hclee/python2/local/lib/python2.7/site-packages/skimage/transform/_warps.py:105: UserWarning: The default mode, 'constant', will be changed to 'reflect' in skimage 0.15.\n",
      "  warn(\"The default mode, 'constant', will be changed to 'reflect' in \"\n"
     ]
    }
   ],
   "source": [
    "from skimage import transform as skt\n",
    "from skimage import filters as skf\n",
    "import cv2\n",
    "from skimage.io import imread\n",
    "import numpy as np\n",
    "\n",
    "for f in val_fns:\n",
    "    img = imread('./simulations/val_img/%s' % f).astype('float')\n",
    "    #img = img[:, :, 1] ## tubulin only\n",
    "    \n",
    "    ## resize/blur/add noise\n",
    "    img = skt.resize(img, (84, 84), anti_aliasing=True)\n",
    "    \n",
    "    imgn = skf.gaussian(img[:, :, 1], sigma = 1.0)\n",
    "    imgn = imgn + 3.0 * np.random.randn(*imgn.shape)\n",
    "    imgn = np.maximum(np.minimum(np.round(imgn), 255), 0).astype(np.uint8)\n",
    "\n",
    "    cv2.imwrite(path_experiment + 'trainA/%s' % f, imgn)\n",
    "    \n",
    "for f in test_fns:\n",
    "    img = imread('./simulations/test_img/%s' % f).astype('float')\n",
    "    #img = img[:, :, 1] ## tubulin only\n",
    "    \n",
    "    ## resize/blur/add noise\n",
    "    img = skt.resize(img, (84, 84), anti_aliasing=True)\n",
    "    \n",
    "    imgn = skf.gaussian(img[:, :, 1], sigma = 1.0)  \n",
    "    imgn = imgn + 3.0 * np.random.randn(*imgn.shape)\n",
    "    imgn = np.maximum(np.minimum(np.round(imgn), 255), 0).astype(np.uint8)\n",
    "\n",
    "    cv2.imwrite(path_experiment + 'test/%s' % f, imgn)"
   ]
  },
  {
   "cell_type": "code",
   "execution_count": 5,
   "metadata": {},
   "outputs": [],
   "source": [
    "train_fns = os.listdir('./simulations/train_img/')\n",
    "\n",
    "for f in train_fns:\n",
    "    img = imread('./simulations/train_img/%s' % f)\n",
    "    img = img[:, :, 1] ## tubulin only\n",
    "    cv2.imwrite(path_experiment + 'trainB/%s' % f, img)"
   ]
  },
  {
   "cell_type": "code",
   "execution_count": 6,
   "metadata": {},
   "outputs": [],
   "source": [
    "assert len(set(os.listdir(path_experiment + 'trainB/')) & set(os.listdir(path_experiment + 'trainA/')))  == 0\n",
    "assert len(set(os.listdir(path_experiment + 'trainB/')) & set(os.listdir(path_experiment + 'test/')))  == 0\n",
    "assert len(set(os.listdir(path_experiment + 'trainA/')) & set(os.listdir(path_experiment + 'test/')))  == 0"
   ]
  },
  {
   "cell_type": "code",
   "execution_count": null,
   "metadata": {},
   "outputs": [],
   "source": []
  }
 ],
 "metadata": {
  "kernelspec": {
   "display_name": "Python 2",
   "language": "python",
   "name": "python2"
  },
  "language_info": {
   "codemirror_mode": {
    "name": "ipython",
    "version": 2
   },
   "file_extension": ".py",
   "mimetype": "text/x-python",
   "name": "python",
   "nbconvert_exporter": "python",
   "pygments_lexer": "ipython2",
   "version": "2.7.12"
  }
 },
 "nbformat": 4,
 "nbformat_minor": 2
}
