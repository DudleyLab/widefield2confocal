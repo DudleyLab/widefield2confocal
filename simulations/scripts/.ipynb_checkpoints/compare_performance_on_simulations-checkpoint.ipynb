{
 "cells": [
  {
   "cell_type": "code",
   "execution_count": 1,
   "metadata": {},
   "outputs": [],
   "source": [
    "## some pathes need to be modified\n",
    "import pickle\n",
    "import os\n",
    "from ssim import SSIM\n",
    "\n",
    "os.environ[\"CUDA_DEVICE_ORDER\"]=\"PCI_BUS_ID\"   # see issue #152\n",
    "os.environ[\"CUDA_VISIBLE_DEVICES\"]=\"0\"\n",
    "\n",
    "## path need to be modified\n",
    "import os, sys\n",
    "sys.path.append(os.path.abspath('XXX/path_to_cyclegan'))\n",
    "from models import create_model\n",
    "## path need to be modified\n",
    "\n",
    "with open('./checkpoints/simulation0_opt.p', 'rb') as reader:\n",
    "    opt = pickle.load(reader)\n",
    "    \n",
    "opt.gpu_ids = [0]\n",
    "opt.preprocess = 'resize'\n",
    "opt.no_flip = True\n",
    "opt.checkpoints_dir = './checkpoints/'"
   ]
  },
  {
   "cell_type": "code",
   "execution_count": 2,
   "metadata": {},
   "outputs": [
    {
     "name": "stdout",
     "output_type": "stream",
     "text": [
      "initialize network with normal\n",
      "initialize network with normal\n",
      "initialize network with normal\n",
      "initialize network with normal\n",
      "model [CycleGANModel] was created\n"
     ]
    }
   ],
   "source": [
    "import os, sys\n",
    "sys.path.append(os.path.abspath('../'))\n",
    "\n",
    "from models import create_model\n",
    "model = create_model(opt)\n"
   ]
  },
  {
   "cell_type": "code",
   "execution_count": 3,
   "metadata": {},
   "outputs": [
    {
     "name": "stdout",
     "output_type": "stream",
     "text": [
      "initialize network with normal\n",
      "initialize network with normal\n",
      "model [Pix2PixModel] was created\n",
      "loading the model from ./checkpoints/pix2pix_deblur/40_net_G.pth\n",
      "loading the model from ./checkpoints/pix2pix_deblur/40_net_D.pth\n"
     ]
    }
   ],
   "source": [
    "with open('./checkpoints/pix2pix_deblur_opt.p', 'rb') as reader:\n",
    "    opt_p2p = pickle.load(reader)\n",
    "    \n",
    "opt.preprocess = 'resize'\n",
    "opt.no_flip = True\n",
    "opt_p2p.gpu_ids = [0]\n",
    "opt_p2p.checkpoints_dir = './checkpoints/'\n",
    "\n",
    "from models import create_model\n",
    "model_p2p = create_model(opt_p2p)\n",
    "\n",
    "model_p2p.load_networks(40)\n",
    "model_p2p.eval()"
   ]
  },
  {
   "cell_type": "code",
   "execution_count": 4,
   "metadata": {},
   "outputs": [],
   "source": [
    "from PIL import Image\n",
    "from data.base_dataset import get_transform\n",
    "opt.preprocess = 'resize'\n",
    "opt.no_flip = True\n",
    "transforms = get_transform(opt, grayscale=False)"
   ]
  },
  {
   "cell_type": "code",
   "execution_count": 5,
   "metadata": {},
   "outputs": [
    {
     "name": "stderr",
     "output_type": "stream",
     "text": [
      "/data1/users/hclee/hclee/py3_env/lib/python3.5/site-packages/dask/config.py:168: YAMLLoadWarning: calling yaml.load() without Loader=... is deprecated, as the default Loader is unsafe. Please read https://msg.pyyaml.org/load for full details.\n",
      "  data = yaml.load(f.read()) or {}\n"
     ]
    }
   ],
   "source": [
    "import sewar\n",
    "from sklearn.metrics import roc_auc_score\n",
    "from skimage.measure import compare_ssim as ssim\n",
    "from skimage.measure import compare_psnr\n",
    "\n",
    "import matplotlib.pyplot as plt\n",
    "%matplotlib inline\n",
    "from skimage import transform as skt\n",
    "from skimage import filters as skf\n",
    "from skimage.restoration import richardson_lucy\n",
    "import numpy as np\n"
   ]
  },
  {
   "cell_type": "code",
   "execution_count": 6,
   "metadata": {},
   "outputs": [],
   "source": [
    "import os\n",
    "fns = os.listdir('./simulations/simulation0/test/')\n",
    "#fns = os.listdir('./simulations/simulation0/trainA/')"
   ]
  },
  {
   "cell_type": "code",
   "execution_count": 7,
   "metadata": {},
   "outputs": [
    {
     "data": {
      "text/plain": [
       "2892"
      ]
     },
     "execution_count": 7,
     "metadata": {},
     "output_type": "execute_result"
    }
   ],
   "source": [
    "len(fns)"
   ]
  },
  {
   "cell_type": "code",
   "execution_count": 8,
   "metadata": {},
   "outputs": [],
   "source": [
    "from ssim import SSIM\n",
    "import pickle"
   ]
  },
  {
   "cell_type": "code",
   "execution_count": 9,
   "metadata": {
    "scrolled": false
   },
   "outputs": [
    {
     "name": "stdout",
     "output_type": "stream",
     "text": [
      "loading the model from ./checkpoints/simulation0/40_net_G_A.pth\n",
      "loading the model from ./checkpoints/simulation0/40_net_G_B.pth\n",
      "loading the model from ./checkpoints/simulation0/40_net_D_A.pth\n",
      "loading the model from ./checkpoints/simulation0/40_net_D_B.pth\n",
      "loading the model from ./checkpoints/simulation1a/40_net_G_A.pth\n",
      "loading the model from ./checkpoints/simulation1a/40_net_G_B.pth\n",
      "loading the model from ./checkpoints/simulation1a/40_net_D_A.pth\n",
      "loading the model from ./checkpoints/simulation1a/40_net_D_B.pth\n",
      "loading the model from ./checkpoints/simulation1b/40_net_G_A.pth\n",
      "loading the model from ./checkpoints/simulation1b/40_net_G_B.pth\n",
      "loading the model from ./checkpoints/simulation1b/40_net_D_A.pth\n",
      "loading the model from ./checkpoints/simulation1b/40_net_D_B.pth\n"
     ]
    },
    {
     "name": "stderr",
     "output_type": "stream",
     "text": [
      "/data1/users/hclee/hclee/py3_env/lib/python3.5/site-packages/skimage/restoration/deconvolution.py:389: RuntimeWarning: invalid value encountered in true_divide\n",
      "  relative_blur = image / convolve_method(im_deconv, psf, 'same')\n",
      "/data1/users/hclee/hclee/py3_env/lib/python3.5/site-packages/skimage/restoration/deconvolution.py:393: RuntimeWarning: invalid value encountered in greater\n",
      "  im_deconv[im_deconv > 1] = 1\n",
      "/data1/users/hclee/hclee/py3_env/lib/python3.5/site-packages/skimage/restoration/deconvolution.py:394: RuntimeWarning: invalid value encountered in less\n",
      "  im_deconv[im_deconv < -1] = -1\n"
     ]
    },
    {
     "name": "stdout",
     "output_type": "stream",
     "text": [
      "loading the model from ./checkpoints/simulation1c/40_net_G_A.pth\n",
      "loading the model from ./checkpoints/simulation1c/40_net_G_B.pth\n",
      "loading the model from ./checkpoints/simulation1c/40_net_D_A.pth\n",
      "loading the model from ./checkpoints/simulation1c/40_net_D_B.pth\n",
      "loading the model from ./checkpoints/simulation2a/40_net_G_A.pth\n",
      "loading the model from ./checkpoints/simulation2a/40_net_G_B.pth\n",
      "loading the model from ./checkpoints/simulation2a/40_net_D_A.pth\n",
      "loading the model from ./checkpoints/simulation2a/40_net_D_B.pth\n",
      "loading the model from ./checkpoints/simulation2b/40_net_G_A.pth\n",
      "loading the model from ./checkpoints/simulation2b/40_net_G_B.pth\n",
      "loading the model from ./checkpoints/simulation2b/40_net_D_A.pth\n",
      "loading the model from ./checkpoints/simulation2b/40_net_D_B.pth\n",
      "loading the model from ./checkpoints/simulation2c/40_net_G_A.pth\n",
      "loading the model from ./checkpoints/simulation2c/40_net_G_B.pth\n",
      "loading the model from ./checkpoints/simulation2c/40_net_D_A.pth\n",
      "loading the model from ./checkpoints/simulation2c/40_net_D_B.pth\n"
     ]
    }
   ],
   "source": [
    "psf = np.zeros((5, 5))\n",
    "psf[2, 2] = 1.0\n",
    "psf = skf.gaussian(psf, sigma = 1.0)\n",
    "psf = psf / np.linalg.norm(psf)\n",
    "\n",
    "res_all = {}\n",
    "#for exp in ['simulation0', 'simulation1a','simulation1b', 'simulation2a', 'simulation2b', 'simulation3b']:\n",
    "#for exp in ['simulation0', 'simulation1a', 'simulation1b', 'simulation1c']:    \n",
    "for exp in ['simulation0', 'simulation1a', 'simulation1b', 'simulation1c', 'simulation2a', 'simulation2b', 'simulation2c']:    \n",
    "    res_ssim = []\n",
    "    res_mssim = []\n",
    "    res_roc = []\n",
    "    \n",
    "    model.save_dir = os.path.join(opt.checkpoints_dir, exp) \n",
    "    model.load_networks(40)\n",
    "    model.eval()\n",
    "    \n",
    "    for f in fns:\n",
    "        img0 = Image.open('./simulations/%s/test/%s' % (exp, f)).convert('RGB')\n",
    "        img1 = Image.open('./simulations/%s/test/%s' % (exp, f))\n",
    "        #img0 = Image.open('./simulations/%s/trainA/%s' % (exp, f)).convert('RGB')\n",
    "        #img1 = Image.open('./simulations/%s/trainA/%s' % (exp, f))\n",
    "        \n",
    "        img1 = np.array(img1)\n",
    "        img2 = Image.open('./simulations/test_img/%s' % f)\n",
    "        img2 = np.array(img2)[:, :, 1]\n",
    "\n",
    "        imgr_rl = img1.astype('float') / 255.\n",
    "        imgr_rl = richardson_lucy(imgr_rl, psf, iterations=30)\n",
    "        imgr_rl = skt.resize(imgr_rl, (128, 128), mode='constant', anti_aliasing=True)\n",
    "        imgr_rl = imgr_rl * 255.\n",
    "\n",
    "        imgr_rl = np.maximum(np.minimum(np.round(imgr_rl), 255), 0).astype(np.uint8)\n",
    "\n",
    "        img = transforms(img0)[1]\n",
    "        img = img.view([1, 1, 128, 128]).cuda()\n",
    "\n",
    "        imgr_net = model.netG_A(img)\n",
    "        imgr_net = (imgr_net + 1.0) * 127.5\n",
    "        imgr_net = imgr_net.cpu().detach().numpy()[0, 0, :, :] \n",
    "        #imgr_net = (imgr_net - np.mean(imgr_net)) / np.std(imgr_net) * np.std(img2) + np.mean(img2)\n",
    "        imgr_net = np.maximum(np.minimum(np.round(imgr_net), 255), 0).astype(np.uint8)\n",
    "\n",
    "        imgr_p2p = model_p2p.netG(img)\n",
    "\n",
    "        imgr_p2p = (imgr_p2p + 1.0) * 127.5\n",
    "        imgr_p2p = imgr_p2p.cpu().detach().numpy()[0, 0, :, :] \n",
    "        imgr_p2p = np.maximum(np.minimum(np.round(imgr_p2p), 255), 0).astype(np.uint8)\n",
    "        \n",
    "        \n",
    "        \n",
    "        \n",
    "        res_ssim.append((ssim(imgr_net, img2, gaussian_weights=True), \n",
    "                         ssim(imgr_p2p, img2, gaussian_weights=True),\n",
    "                         ssim(imgr_rl, img2, gaussian_weights=True)))\n",
    "        \n",
    "        \n",
    "        res_mssim.append((sewar.msssim(imgr_net, img2), \n",
    "                         sewar.msssim(imgr_p2p, img2),\n",
    "                         sewar.msssim(imgr_rl, img2) ))    \n",
    "\n",
    "        thres = img2.mean()\n",
    "        seg = (img2 > thres).ravel()\n",
    "\n",
    "        res_roc.append((roc_auc_score(seg, imgr_net.ravel()),\n",
    "                        roc_auc_score(seg, imgr_p2p.ravel()),\n",
    "                        roc_auc_score(seg, imgr_rl.ravel()),\n",
    "                       ))\n",
    "    \n",
    "    res_all[exp] = [res_ssim, res_mssim, res_roc]\n",
    "    \n",
    "    with open('simulation_accuracy.p', 'wb') as writer:\n",
    "        pickle.dump(res_all, writer)\n",
    "    "
   ]
  },
  {
   "cell_type": "code",
   "execution_count": null,
   "metadata": {},
   "outputs": [],
   "source": [
    "with open('simulation_accuracy.p', 'rb') as reader:\n",
    "    res_all = pickle.load(reader)"
   ]
  },
  {
   "cell_type": "code",
   "execution_count": null,
   "metadata": {},
   "outputs": [],
   "source": [
    "#for exp in ['simulation0', 'simulation1a','simulation1b', 'simulation2a', 'simulation2b', 'simulation3b']:\n",
    "for exp in ['simulation0', 'simulation1a', 'simulation1b', 'simulation2a', 'simulation2b']:    \n",
    "#for exp in ['simulation2a', 'simulation2b', 'simulation2c']:    \n",
    "    print(exp)\n",
    "    for item in res_all[exp]:\n",
    "        item = np.array(item)\n",
    "        print(np.mean(item, axis = 0))"
   ]
  },
  {
   "cell_type": "code",
   "execution_count": null,
   "metadata": {},
   "outputs": [],
   "source": []
  }
 ],
 "metadata": {
  "kernelspec": {
   "display_name": "py3_env",
   "language": "python",
   "name": "py3_env"
  },
  "language_info": {
   "codemirror_mode": {
    "name": "ipython",
    "version": 3
   },
   "file_extension": ".py",
   "mimetype": "text/x-python",
   "name": "python",
   "nbconvert_exporter": "python",
   "pygments_lexer": "ipython3",
   "version": "3.5.2"
  }
 },
 "nbformat": 4,
 "nbformat_minor": 2
}
