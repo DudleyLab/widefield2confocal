{
 "cells": [
  {
   "cell_type": "code",
   "execution_count": 1,
   "metadata": {},
   "outputs": [],
   "source": [
    "import matplotlib.pyplot as plt\n",
    "% matplotlib inline\n",
    "from skimage.io import imread\n",
    "import pandas as pd"
   ]
  },
  {
   "cell_type": "code",
   "execution_count": 2,
   "metadata": {},
   "outputs": [],
   "source": [
    "import os\n",
    "import numpy as np\n",
    "df = pd.read_csv('tubule_nucleus_patch_index.csv', index_col=None)\n",
    "img_id = sorted(set(df.image))"
   ]
  },
  {
   "cell_type": "code",
   "execution_count": 3,
   "metadata": {},
   "outputs": [],
   "source": [
    "from sklearn.model_selection import train_test_split\n",
    "\n",
    "img_train, img_test = train_test_split(img_id, test_size=0.1, random_state=2019)\n",
    "img_train, img_val = train_test_split(img_train, test_size=0.5, random_state=2020)\n",
    "\n",
    "img_train = set(img_train)\n",
    "img_val = set(img_val)\n",
    "img_test = set(img_test)"
   ]
  },
  {
   "cell_type": "code",
   "execution_count": 4,
   "metadata": {},
   "outputs": [
    {
     "data": {
      "text/plain": [
       "(826, 826, 184)"
      ]
     },
     "execution_count": 4,
     "metadata": {},
     "output_type": "execute_result"
    }
   ],
   "source": [
    "len(img_train), len(img_val), len(img_test)"
   ]
  },
  {
   "cell_type": "code",
   "execution_count": 5,
   "metadata": {},
   "outputs": [
    {
     "data": {
      "text/plain": [
       "(0, 0, 0)"
      ]
     },
     "execution_count": 5,
     "metadata": {},
     "output_type": "execute_result"
    }
   ],
   "source": [
    "len(img_train & img_val), len(img_train & img_test), len(img_val & img_test)"
   ]
  },
  {
   "cell_type": "code",
   "execution_count": 6,
   "metadata": {},
   "outputs": [
    {
     "data": {
      "text/plain": [
       "True"
      ]
     },
     "execution_count": 6,
     "metadata": {},
     "output_type": "execute_result"
    }
   ],
   "source": [
    "(img_train | img_test | img_val) == set(img_id)"
   ]
  },
  {
   "cell_type": "code",
   "execution_count": 7,
   "metadata": {
    "scrolled": true
   },
   "outputs": [],
   "source": [
    "import numpy as np\n",
    "img_id = sorted(set(df.image))\n",
    "\n",
    "train_fn = ['%07d.png' % f for i, f in zip(df.image, df.id) if i in img_train]\n",
    "val_fn = ['%07d.png' % f for i, f in zip(df.image, df.id) if i in img_val]\n",
    "test_fn = ['%07d.png' % f for i, f in zip(df.image, df.id) if i in img_test]"
   ]
  },
  {
   "cell_type": "code",
   "execution_count": 8,
   "metadata": {},
   "outputs": [],
   "source": [
    "fn2img = {('%07d.png' % f):i for i, f in zip(df.image, df.id)}"
   ]
  },
  {
   "cell_type": "code",
   "execution_count": 9,
   "metadata": {},
   "outputs": [],
   "source": [
    "assert len(set(train_fn) & set(test_fn)) == 0\n",
    "assert len(set(train_fn) | set(test_fn) | set(val_fn)) == len(df)\n",
    "assert len(set([fn2img[f] for f in train_fn]) & set([fn2img[f] for f in test_fn])) == 0\n",
    "assert len(set([fn2img[f] for f in train_fn]) & set([fn2img[f] for f in val_fn])) == 0\n",
    "assert len(set([fn2img[f] for f in val_fn]) & set([fn2img[f] for f in test_fn])) == 0"
   ]
  },
  {
   "cell_type": "code",
   "execution_count": 10,
   "metadata": {},
   "outputs": [
    {
     "data": {
      "text/plain": [
       "0"
      ]
     },
     "execution_count": 10,
     "metadata": {},
     "output_type": "execute_result"
    }
   ],
   "source": [
    "os.system('mkdir ./simulations/')\n",
    "os.system('mkdir ./simulations/train_img')\n",
    "os.system('mkdir ./simulations/val_img')\n",
    "os.system('mkdir ./simulations/test_img')"
   ]
  },
  {
   "cell_type": "code",
   "execution_count": 11,
   "metadata": {},
   "outputs": [],
   "source": [
    "for f in train_fn:\n",
    "    os.system('cp ./tubule_nucleus_patch/%s ./simulations/train_img/%s' % (f, f))"
   ]
  },
  {
   "cell_type": "code",
   "execution_count": 12,
   "metadata": {},
   "outputs": [],
   "source": [
    "for f in val_fn:\n",
    "    os.system('cp ./tubule_nucleus_patch/%s ./simulations/val_img/%s' % (f, f))"
   ]
  },
  {
   "cell_type": "code",
   "execution_count": 13,
   "metadata": {},
   "outputs": [],
   "source": [
    "for f in test_fn:\n",
    "    os.system('cp ./tubule_nucleus_patch/%s ./simulations/test_img/%s' % (f, f))"
   ]
  },
  {
   "cell_type": "code",
   "execution_count": 14,
   "metadata": {},
   "outputs": [],
   "source": [
    "train_fn = os.listdir('./simulations/train_img')\n",
    "test_fn = os.listdir('./simulations/test_img')\n",
    "val_fn = os.listdir('./simulations/val_img')\n",
    "\n",
    "assert len(set(train_fn) & set(test_fn)) == 0\n",
    "assert len(set([fn2img[f] for f in train_fn]) & set([fn2img[f] for f in test_fn])) == 0\n",
    "assert len(set([fn2img[f] for f in train_fn]) & set([fn2img[f] for f in val_fn])) == 0\n",
    "assert len(set([fn2img[f] for f in val_fn]) & set([fn2img[f] for f in test_fn])) == 0"
   ]
  },
  {
   "cell_type": "code",
   "execution_count": 15,
   "metadata": {},
   "outputs": [
    {
     "data": {
      "text/plain": [
       "(12644, 12661, 2892)"
      ]
     },
     "execution_count": 15,
     "metadata": {},
     "output_type": "execute_result"
    }
   ],
   "source": [
    "len(train_fn), len(val_fn), len(test_fn)"
   ]
  },
  {
   "cell_type": "code",
   "execution_count": null,
   "metadata": {},
   "outputs": [],
   "source": []
  }
 ],
 "metadata": {
  "kernelspec": {
   "display_name": "Python 2",
   "language": "python",
   "name": "python2"
  },
  "language_info": {
   "codemirror_mode": {
    "name": "ipython",
    "version": 2
   },
   "file_extension": ".py",
   "mimetype": "text/x-python",
   "name": "python",
   "nbconvert_exporter": "python",
   "pygments_lexer": "ipython2",
   "version": "2.7.12"
  }
 },
 "nbformat": 4,
 "nbformat_minor": 2
}
