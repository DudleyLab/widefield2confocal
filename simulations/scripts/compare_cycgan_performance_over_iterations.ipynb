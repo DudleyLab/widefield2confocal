{
 "cells": [
  {
   "cell_type": "code",
   "execution_count": null,
   "metadata": {},
   "outputs": [],
   "source": [
    "## some pathes need to be modified\n",
    "import pickle\n",
    "import os\n",
    "\n",
    "os.environ[\"CUDA_DEVICE_ORDER\"]=\"PCI_BUS_ID\"   # see issue #152\n",
    "os.environ[\"CUDA_VISIBLE_DEVICES\"]=\"0\"\n",
    "\n",
    "## path need to be modified\n",
    "import os, sys\n",
    "sys.path.append(os.path.abspath('XXX/path_to_cyclegan'))\n",
    "from models import create_model\n",
    "## path need to be modified\n",
    "\n",
    "with open('./checkpoints/simulation0_opt.p', 'rb') as reader:\n",
    "    opt = pickle.load(reader)\n",
    "    \n",
    "opt.gpu_ids = [0]\n",
    "opt.preprocess = 'resize'\n",
    "opt.no_flip = True\n",
    "opt.checkpoints_dir = './checkpoints/'"
   ]
  },
  {
   "cell_type": "code",
   "execution_count": null,
   "metadata": {
    "scrolled": true
   },
   "outputs": [],
   "source": [
    "model = create_model(opt)"
   ]
  },
  {
   "cell_type": "code",
   "execution_count": null,
   "metadata": {},
   "outputs": [],
   "source": [
    "from PIL import Image\n",
    "from data.base_dataset import get_transform\n",
    "opt.preprocess = 'resize'\n",
    "opt.no_flip = True\n",
    "transforms = get_transform(opt, grayscale=False)"
   ]
  },
  {
   "cell_type": "code",
   "execution_count": null,
   "metadata": {},
   "outputs": [],
   "source": [
    "import os\n",
    "fns = os.listdir('./simulations/simulation0/test/')"
   ]
  },
  {
   "cell_type": "code",
   "execution_count": null,
   "metadata": {},
   "outputs": [],
   "source": [
    "import sewar\n",
    "from sklearn.metrics import roc_auc_score\n",
    "from skimage.measure import compare_ssim as ssim\n",
    "from skimage.measure import compare_psnr\n",
    "\n",
    "import matplotlib.pyplot as plt\n",
    "%matplotlib inline\n",
    "from skimage import transform as skt\n",
    "from skimage import filters as skf\n",
    "from skimage.restoration import richardson_lucy\n",
    "import numpy as np\n"
   ]
  },
  {
   "cell_type": "code",
   "execution_count": null,
   "metadata": {
    "scrolled": true
   },
   "outputs": [],
   "source": [
    "import pickle\n",
    "\n",
    "res_all = {}\n",
    "for exp in ['simulation0', 'simulation1a', 'simulation1b', 'simulation1c', 'simulation2a', 'simulation2b', 'simulation2c']: \n",
    "    res_all[exp] = []\n",
    "\n",
    "    for ite in range(2, 40, 2):\n",
    "\n",
    "        res_ssim = []\n",
    "        res_mssim = []\n",
    "        res_roc = []\n",
    "\n",
    "        model.save_dir = os.path.join(opt.checkpoints_dir, exp) \n",
    "        model.load_networks(ite)\n",
    "        model.eval()\n",
    "\n",
    "        for f in fns:\n",
    "            img0 = Image.open('./simulations/%s/test/%s' % (exp, f)).convert('RGB')\n",
    "            img1 = Image.open('./simulations/%s/test/%s' % (exp, f))\n",
    "            img1 = np.array(img1)\n",
    "            img2 = Image.open('./simulations/test_img/%s' % f)\n",
    "            img2 = np.array(img2)[:, :, 1]\n",
    "\n",
    "            img = transforms(img0)[1]\n",
    "            img = img.view([1, 1, 128, 128]).cuda()\n",
    "\n",
    "            imgr_net = model.netG_A(img)\n",
    "            imgr_net = (imgr_net + 1.0) * 127.5\n",
    "            imgr_net = imgr_net.cpu().detach().numpy()[0, 0, :, :] \n",
    "            imgr_net = np.maximum(np.minimum(np.round(imgr_net), 255), 0).astype(np.uint8)\n",
    "\n",
    "\n",
    "            res_ssim.append((ssim(imgr_net, img2, gaussian_weights=True), \n",
    "                            ))\n",
    "\n",
    "            res_mssim.append((sewar.msssim(imgr_net, img2), \n",
    "                             ))    \n",
    "\n",
    "            thres = img2.mean()\n",
    "            seg = (img2 > thres).ravel()\n",
    "\n",
    "            res_roc.append((roc_auc_score(seg, imgr_net.ravel()),\n",
    "                           ))\n",
    "\n",
    "        res_all[exp].append([res_ssim, res_mssim, res_roc])\n",
    "\n",
    "with open('performance_over_iterations.p', 'wb') as writer:\n",
    "    pickle.dump(res_all, writer)"
   ]
  },
  {
   "cell_type": "code",
   "execution_count": null,
   "metadata": {},
   "outputs": [],
   "source": []
  }
 ],
 "metadata": {
  "kernelspec": {
   "display_name": "py3_env",
   "language": "python",
   "name": "py3_env"
  },
  "language_info": {
   "codemirror_mode": {
    "name": "ipython",
    "version": 3
   },
   "file_extension": ".py",
   "mimetype": "text/x-python",
   "name": "python",
   "nbconvert_exporter": "python",
   "pygments_lexer": "ipython3",
   "version": "3.5.2"
  }
 },
 "nbformat": 4,
 "nbformat_minor": 2
}
